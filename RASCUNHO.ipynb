{
 "cells": [
  {
   "cell_type": "code",
   "execution_count": 6,
   "metadata": {},
   "outputs": [
    {
     "name": "stdout",
     "output_type": "stream",
     "text": [
      "Potencial elétrico em P: 2000616.4025703887 Volts\n"
     ]
    }
   ],
   "source": [
    "import sympy as sp\n",
    "from numpy import array as Matriz\n",
    "from numpy import linalg as Modulo\n",
    "# Constante eletrostática (N m^2/C^2)\n",
    "k = 8.99e9\n",
    "\n",
    "# Cargas (em Coulombs)\n",
    "Q1, Q2, Q3 = 1e-3, 2e-3, -3e-3  # 1 mC, 2 mC, -3 mC\n",
    "\n",
    "# Posições das cargas e ponto P\n",
    "r1 = Matriz([0, 0, 4])\n",
    "r2 = Matriz([-2, 6, 1])\n",
    "r3 = Matriz([3, -4, -8])\n",
    "P = Matriz([4, 2, 2])\n",
    "\n",
    "# Distâncias entre as cargas e o ponto P\n",
    "dist_P1 = Modulo.norm(r1 - P)\n",
    "dist_P2 = Modulo.norm(r2 - P)\n",
    "dist_P3 = Modulo.norm(r3 - P)\n",
    "\n",
    "# Potenciais elétricos devido a cada carga\n",
    "V1 = k * Q1 / dist_P1\n",
    "V2 = k * Q2 / dist_P2\n",
    "V3 = k * Q3 / dist_P3\n",
    "\n",
    "# Potencial elétrico total\n",
    "V_total = V1 + V2 + V3\n",
    "\n",
    "# Avaliar o resultado numérico\n",
    "result = V_total\n",
    "\n",
    "print(\"Potencial elétrico em P:\", result, \"Volts\")\n"
   ]
  },
  {
   "cell_type": "code",
   "execution_count": 7,
   "metadata": {},
   "outputs": [
    {
     "name": "stdout",
     "output_type": "stream",
     "text": [
      "Campo elétrico em P: [-99398.7380382    3009.80318966  39183.86234971]\n"
     ]
    }
   ],
   "source": [
    "import numpy as np\n",
    "\n",
    "# Constante eletrostática (N m^2/C^2)\n",
    "k = 8.99e9\n",
    "\n",
    "# Cargas (em Coulombs)\n",
    "Q1, Q2, Q3 = 1e-3, 2e-3, -3e-3  # 1 mC, 2 mC, -3 mC\n",
    "\n",
    "# Posições das cargas e ponto P\n",
    "r1 = np.array([0, 0, 4])\n",
    "r2 = np.array([-2, 6, 1])\n",
    "r3 = np.array([3, -4, -8])\n",
    "P = np.array([4, 2, 2])\n",
    "\n",
    "# Vetores de posição relativa\n",
    "r1P = r1 - P\n",
    "r2P = r2 - P\n",
    "r3P = r3 - P\n",
    "\n",
    "# Distâncias entre as cargas e o ponto P\n",
    "dist_P1 = np.linalg.norm(r1P)\n",
    "dist_P2 = np.linalg.norm(r2P)\n",
    "dist_P3 = np.linalg.norm(r3P)\n",
    "\n",
    "# Vetores unitários na direção das forças\n",
    "unit_vector_1 = r1P / dist_P1\n",
    "unit_vector_2 = r2P / dist_P2\n",
    "unit_vector_3 = r3P / dist_P3\n",
    "\n",
    "# Campos elétricos devido a cada carga\n",
    "E1 = (k * Q1 / dist_P1**3) * unit_vector_1\n",
    "E2 = (k * Q2 / dist_P2**3) * unit_vector_2\n",
    "E3 = (k * Q3 / dist_P3**3) * unit_vector_3\n",
    "\n",
    "# Campo elétrico total\n",
    "E_total = E1 + E2 + E3\n",
    "\n",
    "print(\"Campo elétrico em P:\", E_total)\n"
   ]
  },
  {
   "cell_type": "code",
   "execution_count": null,
   "metadata": {},
   "outputs": [],
   "source": []
  }
 ],
 "metadata": {
  "kernelspec": {
   "display_name": "Python 3",
   "language": "python",
   "name": "python3"
  },
  "language_info": {
   "codemirror_mode": {
    "name": "ipython",
    "version": 3
   },
   "file_extension": ".py",
   "mimetype": "text/x-python",
   "name": "python",
   "nbconvert_exporter": "python",
   "pygments_lexer": "ipython3",
   "version": "3.11.6"
  }
 },
 "nbformat": 4,
 "nbformat_minor": 2
}
