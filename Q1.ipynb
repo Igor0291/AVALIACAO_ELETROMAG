{
 "cells": [
  {
   "cell_type": "code",
   "execution_count": 49,
   "metadata": {},
   "outputs": [],
   "source": [
    "import numpy as np\n",
    "from numpy import array as Matriz\n",
    "from numpy import linalg as Modulo\n",
    "pi = np.pi\n",
    "#Determinando o valor de Epsilon:\n",
    "eps0 = 1e-9/(36*pi)"
   ]
  },
  {
   "cell_type": "markdown",
   "metadata": {},
   "source": [
    "Três cargas pontuais $ 𝑄_1 = 1𝑚𝐶, 𝑄_2 = 2𝑚𝐶$ e $𝑄_3 = −3𝑚𝐶$ estão localizadas em $(0,0,4), (−2,6,1)$ e $\n",
    "(3, −4, −8)$ respectivamente. Determine:"
   ]
  },
  {
   "cell_type": "markdown",
   "metadata": {},
   "source": [
    "a) A força sobre $Q_1$ "
   ]
  },
  {
   "cell_type": "code",
   "execution_count": 50,
   "metadata": {},
   "outputs": [],
   "source": [
    "#Determinando os valores das cargas especificados na questão\n",
    "q1 = 1e-3\n",
    "q2 = 2e-3\n",
    "q3 = -3e-3\n",
    "#Determinando as posições das 3 cargas\n",
    "r1 = Matriz([0,0,4])\n",
    "r2 = Matriz([-2,6,1])\n",
    "r3 = Matriz([3,-4,-8])\n"
   ]
  },
  {
   "cell_type": "code",
   "execution_count": 53,
   "metadata": {},
   "outputs": [
    {
     "name": "stdout",
     "output_type": "stream",
     "text": [
      "A força total em Q1 é:\n",
      "[ -68.08781123  265.71086202 -304.90823028]\n"
     ]
    }
   ],
   "source": [
    "r12 = r2-r1\n",
    "R12 = Modulo.norm(r12)\n",
    "dist12 = r12/R12\n",
    "F12 = ((1/(4*pi*eps0))*Modulo.norm(q1*q2)/Modulo.norm(R12)**2)*dist12\n",
    "r13 = r3-r1\n",
    "R13 = Modulo.norm(r13)\n",
    "dist13 = r13/R13\n",
    "F13 = ((1/(4*pi*eps0))*Modulo.norm(q1*q3)/Modulo.norm(R13)**2)*dist13\n",
    "Ft = F12+F13\n",
    "print(\"A força total em Q1 é:\")\n",
    "print(Ft)"
   ]
  },
  {
   "cell_type": "markdown",
   "metadata": {},
   "source": [
    "b) O potencial elétrico em $(4,2,2)$"
   ]
  },
  {
   "cell_type": "code",
   "execution_count": 54,
   "metadata": {},
   "outputs": [],
   "source": [
    "from sympy import Integral, symbols, Rational, pi\n",
    "from IPython.display import display, Math\n",
    "x,y,z = symbols(['x', 'y', 'z'], real=True)\n",
    "x1,y1 = symbols(['x1', 'y1'], real=True)    \n",
    "eps0 = 1e-9/(36*pi)\n",
    "rho_s = lambda x,y: (1e-9)*x*y*(x**2+y**2+25)**Rational(3,2)"
   ]
  },
  {
   "cell_type": "code",
   "execution_count": null,
   "metadata": {},
   "outputs": [],
   "source": [
    "p = [(x,4), (y,2), (z,2)]\n"
   ]
  },
  {
   "cell_type": "code",
   "execution_count": null,
   "metadata": {},
   "outputs": [],
   "source": [
    "ponto = [(x,0), (y,0), (z,5)]\n",
    "rp = Matriz([x,y,z]).subs(ponto)\n",
    "re = Matriz([x1,y1,0])\n",
    "r = rp- re\n",
    "dS = 1\n",
    "dE = (rho_s(x1,y1) * dS) * r/ (4*pi*eps0*r.norm()**3)\n",
    "lims = [(x1,0,1), (y1,0,1)]\n",
    "E = Integral(dE,*lims)\n",
    "display(E)\n",
    "display(E.doit())"
   ]
  }
 ],
 "metadata": {
  "kernelspec": {
   "display_name": "Python 3",
   "language": "python",
   "name": "python3"
  },
  "language_info": {
   "codemirror_mode": {
    "name": "ipython",
    "version": 3
   },
   "file_extension": ".py",
   "mimetype": "text/x-python",
   "name": "python",
   "nbconvert_exporter": "python",
   "pygments_lexer": "ipython3",
   "version": "3.11.6"
  },
  "orig_nbformat": 4
 },
 "nbformat": 4,
 "nbformat_minor": 2
}
