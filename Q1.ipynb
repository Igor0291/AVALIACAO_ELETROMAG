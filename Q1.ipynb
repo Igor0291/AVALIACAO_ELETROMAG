{
 "cells": [
  {
   "cell_type": "code",
   "execution_count": 24,
   "metadata": {},
   "outputs": [],
   "source": [
    "import numpy as np\n",
    "from numpy import array as Matriz\n",
    "from numpy import linalg as Modulo\n",
    "pi = np.pi\n",
    "#Determinando o valor de Epsilon:\n",
    "eps0 = 1e-9/(36*pi)"
   ]
  },
  {
   "cell_type": "markdown",
   "metadata": {},
   "source": [
    "Três cargas pontuais $ 𝑄_1 = 1𝑚𝐶, 𝑄_2 = 2𝑚𝐶$ e $𝑄_3 = −3𝑚𝐶$ estão localizadas em $(0,0,4), (−2,6,1)$ e $\n",
    "(3, −4, −8)$ respectivamente. Determine:"
   ]
  },
  {
   "cell_type": "markdown",
   "metadata": {},
   "source": [
    "a) A força sobre $Q_1$ "
   ]
  },
  {
   "cell_type": "code",
   "execution_count": 25,
   "metadata": {},
   "outputs": [],
   "source": [
    "#Determinando os valores das cargas especificados na questão\n",
    "q1 = 1e-3\n",
    "q2 = 2e-3\n",
    "q3 = -3e-3\n",
    "#Determinando as posições das 3 cargas\n",
    "r1 = Matriz([0,0,4])\n",
    "r2 = Matriz([-2,6,1])\n",
    "r3 = Matriz([3,-4,-8])\n"
   ]
  },
  {
   "cell_type": "code",
   "execution_count": 26,
   "metadata": {},
   "outputs": [
    {
     "name": "stdout",
     "output_type": "stream",
     "text": [
      "A força total em Q1 é:\n",
      "[ -68.08781123  265.71086202 -304.90823028]\n"
     ]
    }
   ],
   "source": [
    "r12 = r2-r1\n",
    "R12 = Modulo.norm(r12)\n",
    "dist12 = r12/R12\n",
    "F12 = ((1/(4*pi*eps0))*Modulo.norm(q1*q2)/Modulo.norm(R12)**2)*dist12\n",
    "r13 = r3-r1\n",
    "R13 = Modulo.norm(r13)\n",
    "dist13 = r13/R13\n",
    "F13 = ((1/(4*pi*eps0))*Modulo.norm(q1*q3)/Modulo.norm(R13)**2)*dist13\n",
    "Ft = F12+F13\n",
    "print(\"A força total em Q1 é:\")\n",
    "print(Ft)"
   ]
  },
  {
   "cell_type": "markdown",
   "metadata": {},
   "source": [
    "b) O potencial elétrico em $(4,2,2)$"
   ]
  },
  {
   "cell_type": "code",
   "execution_count": 28,
   "metadata": {},
   "outputs": [
    {
     "name": "stdout",
     "output_type": "stream",
     "text": [
      "1.5454026098213985e-15\n"
     ]
    }
   ],
   "source": [
    "#Ponto p pedido na questão\n",
    "p = Matriz([4,2,2])\n",
    "#Distancias dos 3 pontos menos o ponto p\n",
    "r1p = Modulo.norm(r1-p)\n",
    "r2p = Modulo.norm(r2-p)\n",
    "r3p = Modulo.norm(r3-p)\n",
    "#Potencial Elétrico das 3 cargas\n",
    "V1 = (1/4*pi*eps0) * q1/ r1p\n",
    "V2 = (1/4*pi*eps0) * q2/ r2p\n",
    "V3 = (1/4*pi*eps0) * q3/ r3p\n",
    "\n",
    "#Potencial elétrico Total\n",
    "V_t = V1+V2+V3\n",
    "\n",
    "print (V_t)"
   ]
  },
  {
   "cell_type": "code",
   "execution_count": 18,
   "metadata": {},
   "outputs": [
    {
     "ename": "AttributeError",
     "evalue": "module 'sympy' has no attribute 'norm'",
     "output_type": "error",
     "traceback": [
      "\u001b[1;31m---------------------------------------------------------------------------\u001b[0m",
      "\u001b[1;31mAttributeError\u001b[0m                            Traceback (most recent call last)",
      "\u001b[1;32mc:\\Users\\igore\\OneDrive\\Documentos\\AVALIACAO_ELETROMAG\\Q1.ipynb Cell 8\u001b[0m line \u001b[0;36m1\n\u001b[0;32m     <a href='vscode-notebook-cell:/c%3A/Users/igore/OneDrive/Documentos/AVALIACAO_ELETROMAG/Q1.ipynb#X11sZmlsZQ%3D%3D?line=12'>13</a>\u001b[0m P \u001b[39m=\u001b[39m sp\u001b[39m.\u001b[39mMatrix([\u001b[39m4\u001b[39m, \u001b[39m2\u001b[39m, \u001b[39m2\u001b[39m])\n\u001b[0;32m     <a href='vscode-notebook-cell:/c%3A/Users/igore/OneDrive/Documentos/AVALIACAO_ELETROMAG/Q1.ipynb#X11sZmlsZQ%3D%3D?line=14'>15</a>\u001b[0m \u001b[39m# Distâncias entre as cargas e o ponto P\u001b[39;00m\n\u001b[1;32m---> <a href='vscode-notebook-cell:/c%3A/Users/igore/OneDrive/Documentos/AVALIACAO_ELETROMAG/Q1.ipynb#X11sZmlsZQ%3D%3D?line=15'>16</a>\u001b[0m dist_P1 \u001b[39m=\u001b[39m sp\u001b[39m.\u001b[39;49mnorm(r1 \u001b[39m-\u001b[39m P)\n\u001b[0;32m     <a href='vscode-notebook-cell:/c%3A/Users/igore/OneDrive/Documentos/AVALIACAO_ELETROMAG/Q1.ipynb#X11sZmlsZQ%3D%3D?line=16'>17</a>\u001b[0m dist_P2 \u001b[39m=\u001b[39m sp\u001b[39m.\u001b[39mnorm(r2 \u001b[39m-\u001b[39m P)\n\u001b[0;32m     <a href='vscode-notebook-cell:/c%3A/Users/igore/OneDrive/Documentos/AVALIACAO_ELETROMAG/Q1.ipynb#X11sZmlsZQ%3D%3D?line=17'>18</a>\u001b[0m dist_P3 \u001b[39m=\u001b[39m sp\u001b[39m.\u001b[39mnorm(r3 \u001b[39m-\u001b[39m P)\n",
      "\u001b[1;31mAttributeError\u001b[0m: module 'sympy' has no attribute 'norm'"
     ]
    }
   ],
   "source": []
  },
  {
   "cell_type": "code",
   "execution_count": null,
   "metadata": {},
   "outputs": [],
   "source": []
  }
 ],
 "metadata": {
  "kernelspec": {
   "display_name": "Python 3",
   "language": "python",
   "name": "python3"
  },
  "language_info": {
   "codemirror_mode": {
    "name": "ipython",
    "version": 3
   },
   "file_extension": ".py",
   "mimetype": "text/x-python",
   "name": "python",
   "nbconvert_exporter": "python",
   "pygments_lexer": "ipython3",
   "version": "3.11.6"
  },
  "orig_nbformat": 4
 },
 "nbformat": 4,
 "nbformat_minor": 2
}
