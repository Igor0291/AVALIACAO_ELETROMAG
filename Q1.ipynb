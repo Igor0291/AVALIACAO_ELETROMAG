{
 "cells": [
  {
   "cell_type": "code",
   "execution_count": 29,
   "metadata": {},
   "outputs": [],
   "source": [
    "import numpy as np\n",
    "from numpy import array as Matriz\n",
    "from numpy import linalg as Modulo\n",
    "pi = np.pi\n",
    "#Determinando o valor de Epsilon:\n",
    "eps0 = 1e-9/(36*pi)"
   ]
  },
  {
   "cell_type": "markdown",
   "metadata": {},
   "source": [
    "Três cargas pontuais $ 𝑄_1 = 1𝑚𝐶, 𝑄_2 = 2𝑚𝐶$ e $𝑄_3 = −3𝑚𝐶$ estão localizadas em $(0,0,4), (−2,6,1)$ e $\n",
    "(3, −4, −8)$ respectivamente. Determine:"
   ]
  },
  {
   "cell_type": "markdown",
   "metadata": {},
   "source": [
    "a) A força sobre $Q_1$ "
   ]
  },
  {
   "cell_type": "code",
   "execution_count": 30,
   "metadata": {},
   "outputs": [],
   "source": [
    "#Determinando os valores das cargas especificados na questão\n",
    "q1 = 1e-3\n",
    "q2 = 2e-3\n",
    "q3 = -3e-3\n",
    "#Determinando as posições das 3 cargas\n",
    "r1 = Matriz([0,0,4])\n",
    "r2 = Matriz([-2,6,1])\n",
    "r3 = Matriz([3,-4,-8])\n"
   ]
  },
  {
   "cell_type": "code",
   "execution_count": 55,
   "metadata": {},
   "outputs": [
    {
     "ename": "NameError",
     "evalue": "name 'r' is not defined",
     "output_type": "error",
     "traceback": [
      "\u001b[1;31m---------------------------------------------------------------------------\u001b[0m",
      "\u001b[1;31mNameError\u001b[0m                                 Traceback (most recent call last)",
      "\u001b[1;32mc:\\Users\\igore\\OneDrive\\Documentos\\AVALIACAO_ELETROMAG\\Q1.ipynb Cell 5\u001b[0m line \u001b[0;36m1\n\u001b[1;32m----> <a href='vscode-notebook-cell:/c%3A/Users/igore/OneDrive/Documentos/AVALIACAO_ELETROMAG/Q1.ipynb#X16sZmlsZQ%3D%3D?line=0'>1</a>\u001b[0m R1 \u001b[39m=\u001b[39m r\u001b[39m-\u001b[39mr1\n\u001b[0;32m      <a href='vscode-notebook-cell:/c%3A/Users/igore/OneDrive/Documentos/AVALIACAO_ELETROMAG/Q1.ipynb#X16sZmlsZQ%3D%3D?line=1'>2</a>\u001b[0m F1 \u001b[39m=\u001b[39m (\u001b[39m1\u001b[39m\u001b[39m/\u001b[39m(\u001b[39m4\u001b[39m\u001b[39m*\u001b[39mpi\u001b[39m*\u001b[39meps0))\u001b[39m*\u001b[39m(q\u001b[39m*\u001b[39mq1\u001b[39m*\u001b[39mR1)\u001b[39m/\u001b[39mR1\u001b[39m.\u001b[39mnorm()\u001b[39m*\u001b[39m\u001b[39m*\u001b[39m\u001b[39m3\u001b[39m\n\u001b[0;32m      <a href='vscode-notebook-cell:/c%3A/Users/igore/OneDrive/Documentos/AVALIACAO_ELETROMAG/Q1.ipynb#X16sZmlsZQ%3D%3D?line=2'>3</a>\u001b[0m R2 \u001b[39m=\u001b[39m r\u001b[39m-\u001b[39mr2\n",
      "\u001b[1;31mNameError\u001b[0m: name 'r' is not defined"
     ]
    }
   ],
   "source": [
    "R1 = r-r1\n",
    "F1 = (1/(4*pi*eps0))*(q*q1*R1)/R1.norm()**3\n",
    "R2 = r-r2\n",
    "F2 = (1/(4*pi*eps0))*(q*q2*R2)/R2.norm()**3\n",
    "F = F1+F2\n",
    "F.evalf(4)"
   ]
  },
  {
   "cell_type": "code",
   "execution_count": 56,
   "metadata": {},
   "outputs": [
    {
     "name": "stdout",
     "output_type": "stream",
     "text": [
      "A força total em Q1 é:\n",
      "[ -68.08781123  265.71086202 -304.90823028]\n"
     ]
    }
   ],
   "source": [
    "r12 = r2-r1\n",
    "R12 = Modulo.norm(r12)\n",
    "dist12 = r12/R12\n",
    "F12 = ((1/(4*pi*eps0))*Modulo.norm(q1*q2)/Modulo.norm(R12)**2)*dist12\n",
    "r13 = r3-r1\n",
    "R13 = Modulo.norm(r13)\n",
    "dist13 = r13/R13\n",
    "F13 = ((1/(4*pi*eps0))*Modulo.norm(q1*q3)/Modulo.norm(R13)**2)*dist13\n",
    "Ft = F12+F13\n",
    "print(\"A força total em Q1 é:\")\n",
    "print(Ft)"
   ]
  },
  {
   "cell_type": "markdown",
   "metadata": {},
   "source": [
    "b) O campo elétrico (E) em $(4,2,2)$"
   ]
  },
  {
   "cell_type": "code",
   "execution_count": 57,
   "metadata": {},
   "outputs": [
    {
     "data": {
      "text/plain": [
       "array([-2.60838231e+09,  2.85438650e+11,  4.28127984e+11])"
      ]
     },
     "execution_count": 57,
     "metadata": {},
     "output_type": "execute_result"
    }
   ],
   "source": [
    "p = Matriz([4,2,2])\n",
    "#Vetores posição\n",
    "r1p = r1-p\n",
    "r2p = r2-p\n",
    "r3p = r3-p\n",
    "#Distancias dos 3 pontos menos o ponto p\n",
    "d1p = Modulo.norm(r1p)**3\n",
    "d2p = Modulo.norm(r2p)**3\n",
    "d3p = Modulo.norm(r3p)**3\n",
    "\n",
    "#Campo elétrico E\n",
    "E1 =  (q1*r1p)/(4*pi*eps0)*d1p\n",
    "E2 = (q2*r2p)/(4*pi*eps0)*d2p\n",
    "E3 = (q3*r3p)/(4*pi*eps0)*d3p\n",
    "#Campo total\n",
    "Et = E1+E2+E3\n",
    "Et"
   ]
  },
  {
   "cell_type": "markdown",
   "metadata": {},
   "source": [
    "c) O potencial elétrico em $(4,2,2)$"
   ]
  },
  {
   "cell_type": "code",
   "execution_count": 60,
   "metadata": {},
   "outputs": [
    {
     "name": "stdout",
     "output_type": "stream",
     "text": [
      "1.5454026098213985e-15\n"
     ]
    }
   ],
   "source": [
    "#Potencial Elétrico das 3 cargas\n",
    "\n",
    "V1 = (1/4*pi*eps0) * q1/ Modulo.norm(r1p)\n",
    "V2 = (1/4*pi*eps0) * q2/ Modulo.norm(r2p)\n",
    "V3 = (1/4*pi*eps0) * q3/ Modulo.norm(r3p)\n",
    "\n",
    "#Potencial elétrico Total\n",
    "V_t = V1+V2+V3\n",
    "\n",
    "print (V_t)"
   ]
  },
  {
   "cell_type": "markdown",
   "metadata": {},
   "source": [
    "d)O trabalho necessário para mover uma carga pontual de $1mC$ de $(4,2,2)$ a $(5,2,2)$"
   ]
  },
  {
   "cell_type": "code",
   "execution_count": null,
   "metadata": {},
   "outputs": [],
   "source": []
  }
 ],
 "metadata": {
  "kernelspec": {
   "display_name": "Python 3",
   "language": "python",
   "name": "python3"
  },
  "language_info": {
   "codemirror_mode": {
    "name": "ipython",
    "version": 3
   },
   "file_extension": ".py",
   "mimetype": "text/x-python",
   "name": "python",
   "nbconvert_exporter": "python",
   "pygments_lexer": "ipython3",
   "version": "3.11.6"
  },
  "orig_nbformat": 4
 },
 "nbformat": 4,
 "nbformat_minor": 2
}
