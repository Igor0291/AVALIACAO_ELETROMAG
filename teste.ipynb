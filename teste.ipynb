{
 "cells": [
  {
   "cell_type": "code",
   "execution_count": 2,
   "metadata": {},
   "outputs": [],
   "source": [
    "import numpy as np\n",
    "from numpy import array as Matriz\n",
    "from numpy import linalg as Modulo\n",
    "pi = np.pi\n",
    "#Determinando o valor de Epsilon:\n",
    "eps0 = 1e-9/(36*pi)"
   ]
  },
  {
   "cell_type": "code",
   "execution_count": 3,
   "metadata": {},
   "outputs": [],
   "source": [
    "#Determinando os valores das cargas especificados na questão\n",
    "q1 = 1e-3\n",
    "q2 = 2e-3\n",
    "q3 = -3e-3\n",
    "#Determinando as posições das 3 cargas\n",
    "r1 = Matriz([0,0,4])\n",
    "r2 = Matriz([-2,6,1])\n",
    "r3 = Matriz([3,-4,-8])\n"
   ]
  },
  {
   "cell_type": "code",
   "execution_count": 4,
   "metadata": {},
   "outputs": [
    {
     "name": "stdout",
     "output_type": "stream",
     "text": [
      "A força total em Q1 é:\n",
      "[ -68.08781123  265.71086202 -304.90823028]\n"
     ]
    }
   ],
   "source": [
    "r12 = r2-r1\n",
    "R12 = Modulo.norm(r12)\n",
    "dist12 = r12/R12\n",
    "F12 = ((1/(4*pi*eps0))*Modulo.norm(q1*q2)/Modulo.norm(R12)**2)*dist12\n",
    "r13 = r3-r1\n",
    "R13 = Modulo.norm(r13)\n",
    "dist13 = r13/R13\n",
    "F13 = ((1/(4*pi*eps0))*Modulo.norm(q1*q3)/Modulo.norm(R13)**2)*dist13\n",
    "Ft = F12+F13\n",
    "print(\"A força total em Q1 é:\")\n",
    "print(Ft)"
   ]
  },
  {
   "cell_type": "code",
   "execution_count": 5,
   "metadata": {},
   "outputs": [
    {
     "data": {
      "text/plain": [
       "array([-2.60838231e+09,  2.85438650e+11,  4.28127984e+11])"
      ]
     },
     "execution_count": 5,
     "metadata": {},
     "output_type": "execute_result"
    }
   ],
   "source": [
    "p = Matriz([4,2,2])\n",
    "#Vetores posição\n",
    "r1p = r1-p\n",
    "r2p = r2-p\n",
    "r3p = r3-p\n",
    "#Distancias dos 3 pontos menos o ponto p\n",
    "d1p = Modulo.norm(r1p)**3\n",
    "d2p = Modulo.norm(r2p)**3\n",
    "d3p = Modulo.norm(r3p)**3\n",
    "\n",
    "#Campo elétrico E\n",
    "E1 =  (q1*r1p)/(4*pi*eps0)*d1p\n",
    "E2 = (q2*r2p)/(4*pi*eps0)*d2p\n",
    "E3 = (q3*r3p)/(4*pi*eps0)*d3p\n",
    "#Campo total\n",
    "Et = E1+E2+E3\n",
    "Et"
   ]
  },
  {
   "cell_type": "code",
   "execution_count": null,
   "metadata": {},
   "outputs": [],
   "source": []
  }
 ],
 "metadata": {
  "kernelspec": {
   "display_name": "Python 3",
   "language": "python",
   "name": "python3"
  },
  "language_info": {
   "codemirror_mode": {
    "name": "ipython",
    "version": 3
   },
   "file_extension": ".py",
   "mimetype": "text/x-python",
   "name": "python",
   "nbconvert_exporter": "python",
   "pygments_lexer": "ipython3",
   "version": "3.11.6"
  }
 },
 "nbformat": 4,
 "nbformat_minor": 2
}
