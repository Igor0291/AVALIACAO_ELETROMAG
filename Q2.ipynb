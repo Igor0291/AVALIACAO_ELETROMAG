{
 "cells": [
  {
   "cell_type": "code",
   "execution_count": 4,
   "metadata": {},
   "outputs": [],
   "source": [
    "import numpy as np\n",
    "from numpy import array as Matriz\n",
    "from numpy import linalg as Modulo\n",
    "pi = np.pi\n",
    "#Determinando o valor de Epsilon:\n",
    "eps0 = 1e-9/(36*pi)"
   ]
  },
  {
   "cell_type": "markdown",
   "metadata": {},
   "source": [
    "Três cargas pontuais $ 𝑄_1 = 1𝑚𝐶, 𝑄_2 = 2𝑚𝐶$ e $𝑄_3 = −3𝑚𝐶$ estão localizadas em $(0,0,4), (−2,6,1)$ e $\n",
    "(3, −4, −8)$ respectivamente. Determine:"
   ]
  },
  {
   "cell_type": "markdown",
   "metadata": {},
   "source": [
    "a) A força sobre $Q_1$ "
   ]
  },
  {
   "cell_type": "code",
   "execution_count": 7,
   "metadata": {},
   "outputs": [],
   "source": [
    "#Determinando os valores das cargas especificados na questão\n",
    "q1 = 1e-3\n",
    "q2 = 2e-3\n",
    "q3 = -3e-3\n",
    "#Determinando as posições das 3 cargas\n",
    "r1 = Matriz([0,0,4])\n",
    "r2 = Matriz([-2,6,1])\n",
    "r3 = Matriz([3,-4,-8])\n"
   ]
  },
  {
   "cell_type": "code",
   "execution_count": 5,
   "metadata": {},
   "outputs": [],
   "source": [
    "Q = q1/(4*pi*eps0)\n",
    "r12 = r1-r2\n",
    "R12 = (Modulo.norm(r12))**3\n",
    "r13 = r1-r3\n",
    "R13 = (Modulo.norm(r13))**3\n",
    "\n",
    "A = (q2*r12)/(R12)\n",
    "B = (q3*r13)/(R13)"
   ]
  },
  {
   "cell_type": "code",
   "execution_count": 10,
   "metadata": {},
   "outputs": [
    {
     "name": "stdout",
     "output_type": "stream",
     "text": [
      "A força em Q1 é de: [ 141.82472521 -364.02674731    9.96057439]\n"
     ]
    }
   ],
   "source": [
    "F = Q*(A+B)\n",
    "print(\"A força em Q1 é de:\", F)"
   ]
  },
  {
   "cell_type": "markdown",
   "metadata": {},
   "source": [
    "b) O campo elétrico (E) em $(4,2,2)$"
   ]
  },
  {
   "cell_type": "code",
   "execution_count": 9,
   "metadata": {},
   "outputs": [
    {
     "data": {
      "text/plain": [
       "array([-2.60838231e+09,  2.85438650e+11,  4.28127984e+11])"
      ]
     },
     "execution_count": 9,
     "metadata": {},
     "output_type": "execute_result"
    }
   ],
   "source": [
    "p = Matriz([4,2,2])\n",
    "#Vetores posição\n",
    "r1p = r1-p\n",
    "r2p = r2-p\n",
    "r3p = r3-p"
   ]
  },
  {
   "cell_type": "code",
   "execution_count": null,
   "metadata": {},
   "outputs": [],
   "source": [
    "#Distancias dos 3 pontos menos o ponto p\n",
    "d1p = Modulo.norm(r1p)**3\n",
    "d2p = Modulo.norm(r2p)**3\n",
    "d3p = Modulo.norm(r3p)**3"
   ]
  },
  {
   "cell_type": "code",
   "execution_count": 68,
   "metadata": {},
   "outputs": [],
   "source": [
    "#Campo elétrico E\n",
    "E1 =  (q1*r1p)/(4*pi*eps0*d1p)\n",
    "E2 = (q2*r2p)/(4*pi*eps0*d2p)\n",
    "E3 = (q3*r3p)/(4*pi*eps0*d3p)"
   ]
  },
  {
   "cell_type": "code",
   "execution_count": 69,
   "metadata": {},
   "outputs": [
    {
     "name": "stdout",
     "output_type": "stream",
     "text": [
      "O campo elétrico na posição [4,2,2] é de: [-569253.05758974  134536.15532415  274819.40798678]\n"
     ]
    }
   ],
   "source": [
    "#Campo total\n",
    "Et = E1+E2+E3\n",
    "print(\"O campo elétrico na posição [4,2,2] é de:\", Et)"
   ]
  },
  {
   "cell_type": "markdown",
   "metadata": {},
   "source": [
    "c) O potencial elétrico em $(4,2,2)$"
   ]
  },
  {
   "cell_type": "code",
   "execution_count": 70,
   "metadata": {},
   "outputs": [
    {
     "name": "stdout",
     "output_type": "stream",
     "text": [
      "1.5454026098213985e-15\n"
     ]
    }
   ],
   "source": [
    "#Potencial Elétrico das 3 cargas\n",
    "\n",
    "V1 = (1/4*pi*eps0) * q1/ Modulo.norm(r1p)\n",
    "V2 = (1/4*pi*eps0) * q2/ Modulo.norm(r2p)\n",
    "V3 = (1/4*pi*eps0) * q3/ Modulo.norm(r3p)\n",
    "\n",
    "#Potencial elétrico Total\n",
    "V_t = V1+V2+V3\n",
    "\n",
    "print (V_t)"
   ]
  },
  {
   "cell_type": "markdown",
   "metadata": {},
   "source": [
    "d)O trabalho necessário para mover uma carga pontual de $1mC$ de $(4,2,2)$ a $(5,2,2)$"
   ]
  },
  {
   "cell_type": "code",
   "execution_count": 1,
   "metadata": {},
   "outputs": [],
   "source": [
    "import sympy as sp\n",
    "from sympy import ImmutableMatrix as M"
   ]
  },
  {
   "cell_type": "code",
   "execution_count": 2,
   "metadata": {},
   "outputs": [],
   "source": [
    "k = sp.symbols('k')"
   ]
  },
  {
   "cell_type": "code",
   "execution_count": 5,
   "metadata": {},
   "outputs": [
    {
     "data": {
      "text/latex": [
       "$\\displaystyle 1$"
      ],
      "text/plain": [
       "1"
      ]
     },
     "execution_count": 5,
     "metadata": {},
     "output_type": "execute_result"
    }
   ],
   "source": [
    "k_value = 1/4*pi*eps0\n",
    "\n",
    "#Dfeinindo as posições especificadas na questão\n",
    "P_A = M([4,2,2])\n",
    "P_B = M([5,2,2])\n",
    "\n",
    "#Deslocamento\n",
    "D_AB = P_A - P_B\n",
    "M_D_AB = D_AB.dot(D_AB)**3"
   ]
  },
  {
   "cell_type": "code",
   "execution_count": 12,
   "metadata": {},
   "outputs": [],
   "source": [
    "#Calculando a difereça de potencial\n",
    "D_V = k*q1/ M_D_AB"
   ]
  },
  {
   "cell_type": "code",
   "execution_count": 13,
   "metadata": {},
   "outputs": [
    {
     "data": {
      "text/latex": [
       "$\\displaystyle 1.0 \\cdot 10^{-6} k$"
      ],
      "text/plain": [
       "1.0e-6*k"
      ]
     },
     "execution_count": 13,
     "metadata": {},
     "output_type": "execute_result"
    }
   ],
   "source": [
    "#Agora o trabalho\n",
    "W = q1 * D_V\n",
    "W"
   ]
  },
  {
   "cell_type": "code",
   "execution_count": null,
   "metadata": {},
   "outputs": [],
   "source": []
  }
 ],
 "metadata": {
  "kernelspec": {
   "display_name": "Python 3",
   "language": "python",
   "name": "python3"
  },
  "language_info": {
   "codemirror_mode": {
    "name": "ipython",
    "version": 3
   },
   "file_extension": ".py",
   "mimetype": "text/x-python",
   "name": "python",
   "nbconvert_exporter": "python",
   "pygments_lexer": "ipython3",
   "version": "3.11.6"
  },
  "orig_nbformat": 4
 },
 "nbformat": 4,
 "nbformat_minor": 2
}
