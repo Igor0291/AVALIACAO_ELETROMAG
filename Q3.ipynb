{
 "cells": [
  {
   "cell_type": "code",
   "execution_count": 48,
   "metadata": {},
   "outputs": [],
   "source": [
    "import sympy as sp\n",
    "x,y,z,eps0,rho,ax,ay,az = sp.symbols(\"x y z epsilon_0 rho âx ây âz\")\n",
    "pi = sp.pi"
   ]
  },
  {
   "cell_type": "markdown",
   "metadata": {},
   "source": [
    "Um campo potencial elétrico é dado por $V = 3𝑦𝑥^2+2𝑧𝑦^2 − z$ . Determine:"
   ]
  },
  {
   "cell_type": "markdown",
   "metadata": {},
   "source": [
    "a) O campo elétrico $\\mathbf{(E)}$ em $(1,2,5)$"
   ]
  },
  {
   "cell_type": "code",
   "execution_count": 41,
   "metadata": {},
   "outputs": [
    {
     "data": {
      "text/latex": [
       "$\\displaystyle - 6 x y âx + ây \\left(- 3 x^{2} - 4 y z\\right) + âz \\left(1 - 2 y^{2}\\right)$"
      ],
      "text/plain": [
       "-6*x*y*âx + ây*(-3*x**2 - 4*y*z) + âz*(1 - 2*y**2)"
      ]
     },
     "execution_count": 41,
     "metadata": {},
     "output_type": "execute_result"
    }
   ],
   "source": [
    "#Calculando o potencial\n",
    "V = 3*y*x**2+2*z*y**2-z\n",
    "\n",
    "#Calculando o campo elétrico\n",
    "DV_DX = -1*sp.diff(V, x)*ax\n",
    "DV_DY = -1*sp.diff(V, y)*ay\n",
    "DV_DZ = -1*sp.diff(V, z)*az\n",
    "c_e = DV_DX+DV_DY+DV_DZ\n",
    "c_e"
   ]
  },
  {
   "cell_type": "code",
   "execution_count": 45,
   "metadata": {},
   "outputs": [
    {
     "data": {
      "text/latex": [
       "$\\displaystyle - 12 âx - 43 ây - 7 âz$"
      ],
      "text/plain": [
       "-12*âx - 43*ây - 7*âz"
      ]
     },
     "execution_count": 45,
     "metadata": {},
     "output_type": "execute_result"
    }
   ],
   "source": [
    "#Substituindo nas coordenadas da questão\n",
    "E_X = c_e.subs(x,1)\n",
    "E_Y = E_X.subs(y,2)\n",
    "E_Z = E_Y.subs(z,5)\n",
    "E_Z"
   ]
  },
  {
   "cell_type": "markdown",
   "metadata": {},
   "source": [
    "b) A densidade de carga que gera esse potencial elétrico"
   ]
  },
  {
   "cell_type": "code",
   "execution_count": 47,
   "metadata": {},
   "outputs": [
    {
     "data": {
      "text/latex": [
       "$\\displaystyle \\epsilon_{0} \\left(- 6 y - 4 z\\right)$"
      ],
      "text/plain": [
       "epsilon_0*(-6*y - 4*z)"
      ]
     },
     "execution_count": 47,
     "metadata": {},
     "output_type": "execute_result"
    }
   ],
   "source": [
    "roh= (sp.diff(DV_DX/ax, x) + sp.diff(DV_DY/ay, y) + sp.diff(DV_DZ/az , z))\n",
    "roh = roh*eps0\n",
    "#Resposta:\n",
    "roh"
   ]
  }
 ],
 "metadata": {
  "kernelspec": {
   "display_name": "Python 3",
   "language": "python",
   "name": "python3"
  },
  "language_info": {
   "codemirror_mode": {
    "name": "ipython",
    "version": 3
   },
   "file_extension": ".py",
   "mimetype": "text/x-python",
   "name": "python",
   "nbconvert_exporter": "python",
   "pygments_lexer": "ipython3",
   "version": "3.11.6"
  }
 },
 "nbformat": 4,
 "nbformat_minor": 2
}
