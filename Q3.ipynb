{
 "cells": [
  {
   "cell_type": "code",
   "execution_count": 5,
   "metadata": {},
   "outputs": [],
   "source": [
    "import sympy as sp\n",
    "x,y,z = sp.symbols('x y z')"
   ]
  },
  {
   "cell_type": "markdown",
   "metadata": {},
   "source": []
  },
  {
   "cell_type": "code",
   "execution_count": 6,
   "metadata": {},
   "outputs": [
    {
     "name": "stdout",
     "output_type": "stream",
     "text": [
      "-12 -43 -7\n"
     ]
    }
   ],
   "source": [
    "V = 3*y*x**2+2*z*y**2-z\n",
    "\n",
    "DV_DX = sp.diff(V, x)\n",
    "DV_DY = sp.diff(V, y)\n",
    "DV_DZ = sp.diff(V, z)\n",
    "\n",
    "E_X = -DV_DX.subs({x:1, y:2, z:5})\n",
    "E_Y = -DV_DY.subs({x:1, y:2, z:5})\n",
    "E_Z = -DV_DZ.subs({x:1, y:2, z:5})\n",
    "\n",
    "print(E_X, E_Y, E_Z)"
   ]
  },
  {
   "cell_type": "code",
   "execution_count": null,
   "metadata": {},
   "outputs": [],
   "source": []
  }
 ],
 "metadata": {
  "kernelspec": {
   "display_name": "Python 3",
   "language": "python",
   "name": "python3"
  },
  "language_info": {
   "codemirror_mode": {
    "name": "ipython",
    "version": 3
   },
   "file_extension": ".py",
   "mimetype": "text/x-python",
   "name": "python",
   "nbconvert_exporter": "python",
   "pygments_lexer": "ipython3",
   "version": "3.11.6"
  }
 },
 "nbformat": 4,
 "nbformat_minor": 2
}
