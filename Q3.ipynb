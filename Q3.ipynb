{
 "cells": [
  {
   "cell_type": "code",
   "execution_count": 6,
   "metadata": {},
   "outputs": [],
   "source": [
    "import sympy as sp\n",
    "x,y,z = sp.symbols('x y z')\n",
    "pi = sp.pi\n",
    "eps0 = 1e-9/(36*pi)"
   ]
  },
  {
   "cell_type": "markdown",
   "metadata": {},
   "source": [
    "Um campo potencial elétrico é dado por $V = 3𝑦𝑥^2+2𝑧𝑦^2 − z$ . Determine:"
   ]
  },
  {
   "cell_type": "markdown",
   "metadata": {},
   "source": [
    "a) O campo elétrico $\\mathbf{(E)}$ em $(1,2,5)$"
   ]
  },
  {
   "cell_type": "code",
   "execution_count": 3,
   "metadata": {},
   "outputs": [
    {
     "name": "stdout",
     "output_type": "stream",
     "text": [
      "-12 -43 -7\n"
     ]
    }
   ],
   "source": [
    "V = 3*y*x**2+2*z*y**2-z\n",
    "\n",
    "DV_DX = sp.diff(V, x)\n",
    "DV_DY = sp.diff(V, y)\n",
    "DV_DZ = sp.diff(V, z)\n",
    "\n",
    "E_X = -DV_DX.subs({x:1, y:2, z:5})\n",
    "E_Y = -DV_DY.subs({x:1, y:2, z:5})\n",
    "E_Z = -DV_DZ.subs({x:1, y:2, z:5})\n",
    "\n",
    "print(E_X, E_Y, E_Z)"
   ]
  },
  {
   "cell_type": "markdown",
   "metadata": {},
   "source": [
    "b) A densidade de carga que gera esse potencial elétrico"
   ]
  },
  {
   "cell_type": "code",
   "execution_count": 9,
   "metadata": {},
   "outputs": [
    {
     "data": {
      "text/latex": [
       "$\\displaystyle \\frac{2.77777777777778 \\cdot 10^{-11} \\left(- 3 x^{2} - 6 x y - 2 y^{2} - 4 y z + 1\\right)}{\\pi}$"
      ],
      "text/plain": [
       "2.77777777777778e-11*(-3*x**2 - 6*x*y - 2*y**2 - 4*y*z + 1)/pi"
      ]
     },
     "execution_count": 9,
     "metadata": {},
     "output_type": "execute_result"
    }
   ],
   "source": [
    "D = eps0 * -(DV_DX+DV_DY+DV_DZ)\n",
    "D"
   ]
  },
  {
   "cell_type": "code",
   "execution_count": null,
   "metadata": {},
   "outputs": [],
   "source": []
  }
 ],
 "metadata": {
  "kernelspec": {
   "display_name": "Python 3",
   "language": "python",
   "name": "python3"
  },
  "language_info": {
   "codemirror_mode": {
    "name": "ipython",
    "version": 3
   },
   "file_extension": ".py",
   "mimetype": "text/x-python",
   "name": "python",
   "nbconvert_exporter": "python",
   "pygments_lexer": "ipython3",
   "version": "3.11.6"
  }
 },
 "nbformat": 4,
 "nbformat_minor": 2
}
